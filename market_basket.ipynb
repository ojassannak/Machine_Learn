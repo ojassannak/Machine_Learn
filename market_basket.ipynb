{
 "cells": [
  {
   "cell_type": "markdown",
   "id": "1c551621-2246-44f6-84a1-9e46f27558d7",
   "metadata": {},
   "source": [
    "<h4>Import liberies</h4>"
   ]
  },
  {
   "cell_type": "code",
   "execution_count": 66,
   "id": "4fa6fcf8-603b-453c-9c41-3b995669fbe3",
   "metadata": {},
   "outputs": [],
   "source": [
    "import os\n",
    "import numpy as np\n",
    "import pandas as pd\n",
    "import scipy.cluster.hierarchy as sch\n",
    "import seaborn as sns\n",
    "import matplotlib.pyplot as plt\n",
    "import itertools "
   ]
  },
  {
   "cell_type": "markdown",
   "id": "b2ebd941-fe70-4383-b132-6d80910bb506",
   "metadata": {},
   "source": [
    "<h5>house keeping params</h5>"
   ]
  },
  {
   "cell_type": "code",
   "execution_count": 16,
   "id": "e919fb52-59dc-4371-9f82-5bd1e8081757",
   "metadata": {},
   "outputs": [
    {
     "data": {
      "text/plain": [
       "<Figure size 1500x700 with 0 Axes>"
      ]
     },
     "metadata": {},
     "output_type": "display_data"
    }
   ],
   "source": [
    "RANDOM_STATE = 24\n",
    "np.random.seed(RANDOM_STATE) # Set Random Seed for reproducible  results\n",
    "\n",
    "NOISE = 0.1\n",
    "N_SAMPLES = 1000\n",
    "ALPHA = 0.001\n",
    "\n",
    "# parameters for Matplotlib\n",
    "params = {'legend.fontsize': 'small',\n",
    "          'figure.figsize': (15, 7),\n",
    "          'axes.labelsize': 'large',\n",
    "          'axes.titlesize':'x-large',\n",
    "          'xtick.labelsize':'large',\n",
    "          'ytick.labelsize':'large',\n",
    "          'savefig.dpi': 75,\n",
    "          'image.interpolation': 'none',\n",
    "          'savefig.bbox' : 'tight',\n",
    "          'lines.linewidth' : 1,\n",
    "          'legend.numpoints' : 1\n",
    "         }\n",
    "\n",
    "CMAP = plt.cm.rainbow\n",
    "plt.rcParams.update(params);\n",
    "plt.set_cmap(CMAP);\n",
    "\n",
    "plt.style.use('seaborn-v0_8-darkgrid') # plt.style.use('ggplot')\n",
    "\n",
    "TEST_SIZE = 0.25"
   ]
  },
  {
   "cell_type": "markdown",
   "id": "92808634-d8d1-4370-81b3-28a5ebae086d",
   "metadata": {},
   "source": [
    "<h4>Get Data</h4>"
   ]
  },
  {
   "cell_type": "code",
   "execution_count": 22,
   "id": "f0fe670e-250c-4067-93e4-7876c7a78bb5",
   "metadata": {},
   "outputs": [],
   "source": [
    "groceries_df = \"groceries_mba.csv\""
   ]
  },
  {
   "cell_type": "code",
   "execution_count": 28,
   "id": "e5f42697-e82d-4ae5-b5d8-6a70b168135f",
   "metadata": {},
   "outputs": [
    {
     "data": {
      "text/plain": [
       "[['citrus_fruit', 'margarine', 'ready_soups', 'semi-finished_bread'],\n",
       " ['coffee', 'tropical_fruit', 'yogurt'],\n",
       " ['whole_milk'],\n",
       " ['cream_cheese_', 'meat_spreads', 'pip_fruit', 'yogurt'],\n",
       " ['condensed_milk',\n",
       "  'long_life_bakery_product',\n",
       "  'other_vegetables',\n",
       "  'whole_milk'],\n",
       " ['abrasive_cleaner', 'butter', 'rice', 'whole_milk', 'yogurt'],\n",
       " ['rolls/buns'],\n",
       " ['UHT-milk',\n",
       "  'bottled_beer',\n",
       "  'liquor_(appetizer)',\n",
       "  'other_vegetables',\n",
       "  'rolls/buns'],\n",
       " ['pot_plants'],\n",
       " ['cereals', 'whole_milk']]"
      ]
     },
     "execution_count": 28,
     "metadata": {},
     "output_type": "execute_result"
    }
   ],
   "source": [
    "with open(groceries_df) as file:\n",
    "    lines = file.readlines()\n",
    "    lines = [sorted(list(set(line.rstrip().split(',')))) for line in lines]\n",
    "\n",
    "lines[:10]"
   ]
  },
  {
   "cell_type": "code",
   "execution_count": 57,
   "id": "f3c4ccac-affa-409a-b405-58af5b165765",
   "metadata": {},
   "outputs": [],
   "source": [
    "supps = []\n",
    "\n",
    "supp = {}\n",
    "\n",
    "for line in lines:\n",
    "    for key in line:\n",
    "        if key in supp:\n",
    "            supp[key] += 1\n",
    "        else:\n",
    "            supp[key] = 1"
   ]
  },
  {
   "cell_type": "code",
   "execution_count": null,
   "id": "3091b7dc-d1a1-43fa-aa99-b0bb4cb19936",
   "metadata": {},
   "outputs": [],
   "source": []
  },
  {
   "cell_type": "code",
   "execution_count": 60,
   "id": "14b8ad3a-3948-4e9a-bced-390858c17370",
   "metadata": {},
   "outputs": [],
   "source": [
    "SUPP_THRESHOLD = 100\n",
    "CONF_THRESHOLD = 0.4\n",
    "LIFT_THRESHOLD = 20.0\n",
    "CONV_THRESHOLD = 5.0"
   ]
  },
  {
   "cell_type": "code",
   "execution_count": 62,
   "id": "f1f6e314-73d6-4452-86af-34c5d3dfd8e8",
   "metadata": {},
   "outputs": [
    {
     "data": {
      "text/plain": [
       "88"
      ]
     },
     "execution_count": 62,
     "metadata": {},
     "output_type": "execute_result"
    }
   ],
   "source": [
    "f_supp = {k: v for k,v in supp.items() if  v >= SUPP_THRESHOLD}\n",
    "len(f_supp)"
   ]
  },
  {
   "cell_type": "code",
   "execution_count": 64,
   "id": "6efa8f91-6ae5-44ef-bbd8-fe5f66ef9fc0",
   "metadata": {},
   "outputs": [],
   "source": [
    "supps.append(f_supp)"
   ]
  },
  {
   "cell_type": "code",
   "execution_count": 95,
   "id": "831aaf63-eea8-42f5-a6eb-8db446c636b7",
   "metadata": {},
   "outputs": [],
   "source": [
    "    supp = {}\n",
    "\n",
    "    for line in  lines:\n",
    "\n",
    "        for combination in itertools.combinations(line, 2):\n",
    "\n",
    "            if combination[0] in supps[0] and combination[1] in supps[0]:\n",
    "                key = ','.join(combination)\n",
    "                if key in supp:\n",
    "                    supp[key] += 1\n",
    "                else:\n",
    "                    supp[key] = 1\n",
    "\n",
    "f_supp = {k: v for k,v in supp.items() if  v >= SUPP_THRESHOLD}\n",
    "supps.append(f_supp)"
   ]
  },
  {
   "cell_type": "code",
   "execution_count": 106,
   "id": "39faf054-79d4-45ec-bda9-f5226abf12fa",
   "metadata": {},
   "outputs": [
    {
     "ename": "KeyError",
     "evalue": "0",
     "output_type": "error",
     "traceback": [
      "\u001b[1;31m---------------------------------------------------------------------------\u001b[0m",
      "\u001b[1;31mKeyError\u001b[0m                                  Traceback (most recent call last)",
      "Cell \u001b[1;32mIn[106], line 7\u001b[0m\n\u001b[0;32m      3\u001b[0m \u001b[38;5;28;01mfor\u001b[39;00m line \u001b[38;5;129;01min\u001b[39;00m  lines:\n\u001b[0;32m      5\u001b[0m     \u001b[38;5;28;01mfor\u001b[39;00m combination \u001b[38;5;129;01min\u001b[39;00m itertools\u001b[38;5;241m.\u001b[39mcombinations(line, \u001b[38;5;241m3\u001b[39m):\n\u001b[1;32m----> 7\u001b[0m         \u001b[38;5;28;01mif\u001b[39;00m combination[\u001b[38;5;241m0\u001b[39m] \u001b[38;5;129;01min\u001b[39;00m \u001b[43msupp\u001b[49m\u001b[43m[\u001b[49m\u001b[38;5;241;43m0\u001b[39;49m\u001b[43m]\u001b[49m \u001b[38;5;129;01mand\u001b[39;00m combination[\u001b[38;5;241m1\u001b[39m] \u001b[38;5;129;01min\u001b[39;00m supps[\u001b[38;5;241m0\u001b[39m]:\n\u001b[0;32m      8\u001b[0m             key \u001b[38;5;241m=\u001b[39m \u001b[38;5;124m'\u001b[39m\u001b[38;5;124m,\u001b[39m\u001b[38;5;124m'\u001b[39m\u001b[38;5;241m.\u001b[39mjoin(combination)\n\u001b[0;32m      9\u001b[0m             \u001b[38;5;28;01mif\u001b[39;00m key \u001b[38;5;129;01min\u001b[39;00m supp:\n",
      "\u001b[1;31mKeyError\u001b[0m: 0"
     ]
    }
   ],
   "source": [
    "    supp = {}\n",
    "\n",
    "    for line in  lines:\n",
    "\n",
    "        for combination in itertools.combinations(line, 3):\n",
    "\n",
    "            if combination[0] in supp[0] and combination[1] in supps[0]:\n",
    "                key = ','.join(combination)\n",
    "                if key in supp:\n",
    "                    supp[key] += 1\n",
    "                else:\n",
    "                    supp[key] = 1\n",
    "\n",
    "f_supp = {k: v for k,v in supp.items() if  v >= SUPP_THRESHOLD}\n",
    "supps.append(f_supp)"
   ]
  },
  {
   "cell_type": "code",
   "execution_count": 108,
   "id": "ad401535-c9d4-4fa3-80ec-48efe6dd4d42",
   "metadata": {},
   "outputs": [],
   "source": [
    "def measures(supp_ab, supp_a, supp_b, transaction_count):\n",
    "    conf = np.float32(supp_ab)/ supp_a\n",
    "    sup = np.float32(supp_b)/ transaction_count\n",
    "    lift = conf/ sup\n",
    "    if conf == 1.0:\n",
    "        conv = np.float32('inf')\n",
    "    else:\n",
    "        conv = (1-sup)/(1-conf)\n",
    "    return [conf, sup, lift, conv]"
   ]
  },
  {
   "cell_type": "code",
   "execution_count": 110,
   "id": "506f60a1-8e7c-4d28-9fa1-bcb931bf55b9",
   "metadata": {},
   "outputs": [
    {
     "ename": "TypeError",
     "evalue": "can only concatenate str (not \"list\") to str",
     "output_type": "error",
     "traceback": [
      "\u001b[1;31m---------------------------------------------------------------------------\u001b[0m",
      "\u001b[1;31mTypeError\u001b[0m                                 Traceback (most recent call last)",
      "Cell \u001b[1;32mIn[110], line 5\u001b[0m\n\u001b[0;32m      3\u001b[0m \u001b[38;5;28;01mfor\u001b[39;00m i \u001b[38;5;129;01min\u001b[39;00m \u001b[38;5;28mrange\u001b[39m(\u001b[38;5;241m2\u001b[39m, \u001b[38;5;28mlen\u001b[39m(supps)\u001b[38;5;241m+\u001b[39m\u001b[38;5;241m1\u001b[39m):\n\u001b[0;32m      4\u001b[0m     \u001b[38;5;28;01mfor\u001b[39;00m key, value \u001b[38;5;129;01min\u001b[39;00m supps[i\u001b[38;5;241m-\u001b[39m\u001b[38;5;241m1\u001b[39m]\u001b[38;5;241m.\u001b[39mitems():\n\u001b[1;32m----> 5\u001b[0m         \u001b[43mkey\u001b[49m\u001b[43m \u001b[49m\u001b[38;5;241;43m+\u001b[39;49m\u001b[43m \u001b[49m\u001b[43mkey\u001b[49m\u001b[38;5;241;43m.\u001b[39;49m\u001b[43msplit\u001b[49m\u001b[43m(\u001b[49m\u001b[38;5;124;43m'\u001b[39;49m\u001b[38;5;124;43m,\u001b[39;49m\u001b[38;5;124;43m'\u001b[39;49m\u001b[43m)\u001b[49m\n\u001b[0;32m      6\u001b[0m         \u001b[38;5;28;01mfor\u001b[39;00m j \u001b[38;5;129;01min\u001b[39;00m \u001b[38;5;28mrange\u001b[39m(\u001b[38;5;241m1\u001b[39m, \u001b[38;5;28mlen\u001b[39m(key)):\n\u001b[0;32m      7\u001b[0m             \u001b[38;5;28;01mfor\u001b[39;00m a \u001b[38;5;129;01min\u001b[39;00m intertools\u001b[38;5;241m.\u001b[39mcombinations(key,j):\n",
      "\u001b[1;31mTypeError\u001b[0m: can only concatenate str (not \"list\") to str"
     ]
    }
   ],
   "source": [
    "transaction_count = len(lines)\n",
    "rules = []\n",
    "for i in range(2, len(supps)+1):\n",
    "    for key, value in supps[i-1].items():\n",
    "        key + key.split(',')\n",
    "        for j in range(1, len(key)):\n",
    "            for a in intertools.combinations(key,j):\n",
    "                b= tuple([w for w in key if w not in a])\n",
    "                [conf, sup, lift, conv]= measures(value,supps[len(a)-1][','.join(a)],\n",
    "                                                        supps[len(b)-1][','.join(b)],\n",
    "                                                        transaction_count)\n",
    "                if conf>= CONF_THRESHOLD:\n",
    "                    rules.append((a,b,conf,lift,conv))\n",
    "        rules = sorted(rules, key = lambda x: [x[0],x[1]])\n",
    "        rules = sorted(rules, key = lambda x: (x[2]), reverse=True)"
   ]
  },
  {
   "cell_type": "code",
   "execution_count": null,
   "id": "9b989640-2580-4463-af25-0758d97091f8",
   "metadata": {},
   "outputs": [],
   "source": []
  },
  {
   "cell_type": "code",
   "execution_count": null,
   "id": "bec472b4-1a74-43f1-9f56-2878088ffa36",
   "metadata": {},
   "outputs": [],
   "source": []
  }
 ],
 "metadata": {
  "kernelspec": {
   "display_name": "Python 3 (ipykernel)",
   "language": "python",
   "name": "python3"
  },
  "language_info": {
   "codemirror_mode": {
    "name": "ipython",
    "version": 3
   },
   "file_extension": ".py",
   "mimetype": "text/x-python",
   "name": "python",
   "nbconvert_exporter": "python",
   "pygments_lexer": "ipython3",
   "version": "3.12.4"
  }
 },
 "nbformat": 4,
 "nbformat_minor": 5
}
