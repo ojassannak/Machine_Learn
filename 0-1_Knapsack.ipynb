{
 "cells": [
  {
   "cell_type": "markdown",
   "id": "7b00adca-4aa1-4666-8023-d60b76de06cd",
   "metadata": {},
   "source": [
    "<h4>0/1 Knapsack</h4>"
   ]
  },
  {
   "cell_type": "code",
   "execution_count": 23,
   "id": "f3231d9d-4c4c-411d-89ed-56c640b11014",
   "metadata": {},
   "outputs": [
    {
     "name": "stdout",
     "output_type": "stream",
     "text": [
      "420\n"
     ]
    }
   ],
   "source": [
    "def knap_sack_rec(W: int , wt: list, val: list, n: int):\n",
    "    #print (W, wt[n], val[n], n)\n",
    "\n",
    "#base condition\n",
    "    if W == 0 or n == 0:\n",
    "        return 0\n",
    "\n",
    "    if W >= wt[n-1]:\n",
    "        return max(val[n-1] + knap_sack_rec(W - wt[n- 1], wt, val , n-1),\n",
    "                              knap_sack_rec(W, wt , val , n-1))\n",
    "    else:\n",
    "        return knap_sack_rec(W, wt, val, n-1)\n",
    "\n",
    "\n",
    "if __name__ == '__main__':\n",
    "    val = [120,100,80,60,40,20,10]\n",
    "    wt = [10,20,30,40,50,60,70]\n",
    "    W = 270\n",
    "    n = len(val)\n",
    "    print(knap_sack_rec(W,wt, val, n))"
   ]
  },
  {
   "cell_type": "code",
   "execution_count": 41,
   "id": "f3b77f39-de09-4a25-9a28-af9035d52dc5",
   "metadata": {},
   "outputs": [
    {
     "name": "stdout",
     "output_type": "stream",
     "text": [
      "0\n"
     ]
    }
   ],
   "source": [
    "def knap_sack_rec(W: int , wt: list, val: list, n: int):\n",
    "    #print (W, wt[n], val[n], n)\n",
    "\n",
    "#base condition\n",
    "    if W == 0 or n == 0:\n",
    "        return 0\n",
    "\n",
    "    #check if alue exits\n",
    "    if dp[n][W] != -1:\n",
    "        return dp[n][W]\n",
    "\n",
    "    if W >= wt[n-1]: #if remainig weight is more than weight of\n",
    "        return max(val[n-1] + knap_sack_rec(W - wt[n- 1], wt, val , n-1),\n",
    "                              knap_sack_rec(W, wt , val , n-1))\n",
    "    else:\n",
    "        dp[n][W] =  knap_sack_rec(W, wt, val, n-1)\n",
    "        \n",
    "    return (dp[n][W])\n",
    "\n",
    "if __name__ == '__main__':\n",
    "    val = [120,100]\n",
    "    wt = [10,20]\n",
    "    W = 6\n",
    "    n = len(val)\n",
    "    dp = [[-1 for _ in range(W + 1)] for _ in range(n+1)]\n",
    "    print(knap_sack_rec(W , wt , val , n))\n",
    "    "
   ]
  },
  {
   "cell_type": "code",
   "execution_count": 43,
   "id": "c9c39c11-00e5-4868-a798-ac7db5b7e7b5",
   "metadata": {},
   "outputs": [
    {
     "data": {
      "text/plain": [
       "[[-1, -1, -1, -1, -1, -1, -1],\n",
       " [-1, -1, -1, -1, -1, -1, 0],\n",
       " [-1, -1, -1, -1, -1, -1, 0]]"
      ]
     },
     "execution_count": 43,
     "metadata": {},
     "output_type": "execute_result"
    }
   ],
   "source": [
    "dp"
   ]
  },
  {
   "cell_type": "code",
   "execution_count": null,
   "id": "3f263bbc-0724-4ec2-b928-ab88f0d8a6de",
   "metadata": {},
   "outputs": [],
   "source": []
  }
 ],
 "metadata": {
  "kernelspec": {
   "display_name": "Python 3 (ipykernel)",
   "language": "python",
   "name": "python3"
  },
  "language_info": {
   "codemirror_mode": {
    "name": "ipython",
    "version": 3
   },
   "file_extension": ".py",
   "mimetype": "text/x-python",
   "name": "python",
   "nbconvert_exporter": "python",
   "pygments_lexer": "ipython3",
   "version": "3.12.4"
  }
 },
 "nbformat": 4,
 "nbformat_minor": 5
}
