{
 "cells": [
  {
   "cell_type": "markdown",
   "id": "fda139b7-5b12-4b18-876d-d1a90d8ba8a1",
   "metadata": {},
   "source": [
    "<h4>Libs and housekeeping</h4>"
   ]
  },
  {
   "cell_type": "code",
   "execution_count": 4,
   "id": "238edc33-953c-4df9-9b0e-ab56c9b44e1d",
   "metadata": {},
   "outputs": [],
   "source": [
    "import os\n",
    "import numpy as np\n",
    "import pandas as pd\n",
    "import seaborn as sns\n",
    "import matplotlib.pyplot as plt\n",
    "\n",
    "from statsmodels.graphics.tsaplots import plot_acf, plot_pacf\n",
    "from statsmodels.tsa.arima.model import ARIMA\n",
    "import statsmodels.api as sm\n",
    "import statsmodels.tsa.api as smtsa\n",
    "\n",
    "import pmdarima as pm\n",
    "\n",
    "from sklearn.metrics import mean_absolute_error, mean_squared_error , mean_absolute_percentage_error"
   ]
  },
  {
   "cell_type": "code",
   "execution_count": 6,
   "id": "8e526e32-9efe-4c3a-a21c-164b853515c6",
   "metadata": {},
   "outputs": [
    {
     "data": {
      "text/plain": [
       "<Figure size 1500x700 with 0 Axes>"
      ]
     },
     "metadata": {},
     "output_type": "display_data"
    }
   ],
   "source": [
    "RANDOM_STATE = 24\n",
    "np.random.seed(RANDOM_STATE)\n",
    "rnd = np.random.RandomState(RANDOM_STATE)\n",
    "\n",
    "NUM_SAMPLES = 600\n",
    "\n",
    "params = {'legend.fontsize': 'large',\n",
    "          'figure.figsize': (15, 7),\n",
    "          'axes.labelsize': 'large',\n",
    "          'axes.titlesize':'x-large',\n",
    "          'xtick.labelsize':'x-large',\n",
    "          'ytick.labelsize':'large',\n",
    "          'savefig.dpi': 75,\n",
    "          'image.interpolation': 'none',\n",
    "          'savefig.bbox' : 'tight',\n",
    "          'lines.linewidth' : 1,\n",
    "          'legend.numpoints' : 1,\n",
    "          'scatter.edgecolors': 'b' \n",
    "         }\n",
    "\n",
    "CMAP = plt.cm.brg\n",
    "plt.rcParams.update(params);\n",
    "plt.set_cmap(CMAP);\n",
    "\n",
    "plt.style.use('seaborn-v0_8-darkgrid')"
   ]
  },
  {
   "cell_type": "markdown",
   "id": "8bde35d0-50c5-48e7-8a41-0be47a2b9ca1",
   "metadata": {},
   "source": [
    "<H4>Helper function </H4>"
   ]
  },
  {
   "cell_type": "code",
   "execution_count": 25,
   "id": "f179655d-71fd-4719-89a9-309ee3410139",
   "metadata": {},
   "outputs": [],
   "source": [
    "def plotds(xt, hlag = 30, figsize = (15,12)):\n",
    "    if not isinstance(xt, pd.series):\n",
    "            xt = pd.series(xt)\n",
    "    plt.figure(figsize = figsize)\n",
    "\n",
    "    layout = (2,2)\n",
    "\n",
    "    # assign Axis\n",
    "    ax_xt = plt.subplot2grid(layout, (0,0), colspan=2)\n",
    "    ax_acf = plt.subplot2grid(layout,(1,0))\n",
    "    ax_pacf = plt.subplot2grid(layout,(1,1))\n",
    "    \n",
    "    xt.plot(ax=ax_xt)\n",
    "    ax_xt.set_title('time Series')\n",
    "\n",
    "    plot_acf(xt, lags=nlag, ax =ax_acf)\n",
    "    plot_pacf(xt, lags=nlag, ax =ax_pacf)\n",
    "    plt.tight_layout()"
   ]
  },
  {
   "cell_type": "code",
   "execution_count": null,
   "id": "db7626c7-7da4-4238-ac41-7bf2e220f837",
   "metadata": {},
   "outputs": [],
   "source": []
  },
  {
   "cell_type": "code",
   "execution_count": null,
   "id": "cb929584-0a35-44ca-ae4f-66860bf8a267",
   "metadata": {},
   "outputs": [],
   "source": []
  }
 ],
 "metadata": {
  "kernelspec": {
   "display_name": "Python 3 (ipykernel)",
   "language": "python",
   "name": "python3"
  },
  "language_info": {
   "codemirror_mode": {
    "name": "ipython",
    "version": 3
   },
   "file_extension": ".py",
   "mimetype": "text/x-python",
   "name": "python",
   "nbconvert_exporter": "python",
   "pygments_lexer": "ipython3",
   "version": "3.12.4"
  }
 },
 "nbformat": 4,
 "nbformat_minor": 5
}
